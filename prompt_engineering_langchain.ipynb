{
  "cells": [
    {
      "cell_type": "code",
      "execution_count": null,
      "metadata": {
        "id": "l_LpmKxSrKmJ"
      },
      "outputs": [],
      "source": [
        "import os\n",
        "import requests\n",
        "from langchain import PromptTemplate, FewShotPromptTemplate\n",
        "\n",
        "os.environ[\"HUGGINGFACEHUB_API_TOKEN\"] = \"\"  # Removed for privacy!\n",
        "API_TOKEN = os.environ[\"HUGGINGFACEHUB_API_TOKEN\"]"
      ]
    },
    {
      "cell_type": "code",
      "execution_count": null,
      "metadata": {
        "id": "gD77WI9MrKo8"
      },
      "outputs": [],
      "source": [
        "API_URL = \"https://api-inference.huggingface.co/models/HuggingFaceH4/zephyr-7b-beta\"\n",
        "headers = {\n",
        "    \"Authorization\": f\"Bearer {API_TOKEN}\",\n",
        "    \"Content-Type\": \"application/json\"\n",
        "}"
      ]
    },
    {
      "cell_type": "code",
      "execution_count": null,
      "metadata": {
        "id": "TS0CXCH5rKrm"
      },
      "outputs": [],
      "source": [
        "# --------------------------------------------\n",
        "#         Financial Advisor Prompt\n",
        "# --------------------------------------------\n",
        "\n",
        "financial_template = '''\n",
        "I want you to act as an acting financial advisor for people.\n",
        "In an easy way, explain the basics of {financial_concept}.\n",
        "Answer:\n",
        "'''\n",
        "\n",
        "financial_prompt = PromptTemplate(\n",
        "    input_variables=[\"financial_concept\"],\n",
        "    template=financial_template\n",
        ")"
      ]
    },
    {
      "cell_type": "code",
      "execution_count": 36,
      "metadata": {
        "colab": {
          "base_uri": "https://localhost:8080/"
        },
        "id": "jd2Sq6ZwrKuE",
        "outputId": "35a961bb-03f7-4946-c354-d8d301c1ced8"
      },
      "outputs": [
        {
          "name": "stdout",
          "output_type": "stream",
          "text": [
            "\n",
            "=== Financial Advice ===\n",
            "\n",
            "I want you to act as an acting financial advisor for people.\n",
            "In an easy way, explain the basics of income tax.\n",
            "Answer:\n",
            "As an acting financial advisor, I'd love to help you understand the basics of income tax. At its core, income tax is a fee that the government charges on the money you make. The specifics of how much you owe depend on a few different factors.\n",
            "\n",
            "First, let's talk about what's considered income. This includes things like earnings from a job, interest on investments, or capital gains (which is the amount you make when you sell an investment for more than you paid). Whether you're earning income as an employee, self-employed, or a business owner, you're responsible for keeping track of how much you earn and reporting it to the government.\n",
            "\n",
            "Next, there are different tax rates depending on how much income you make. In the United States, for example, the tax rate increases as your income goes up. This means that you'll pay a higher percentage of your income in taxes once you reach a certain threshold.\n",
            "\n",
            "There are also deductions and credits that can reduce the amount of taxes you owe. Deductions allow you to subtract certain expenses from your income before calculating your taxes. For example, you might be able to deduct things like medical expenses, charitable donations, or the cost of owning a new car for business purposes. Credits, on the other hand, reduce the actual amount of taxes you owe. Their specifics can vary, but some common types include the Earned Income Tax Credit for low- to moderate-income households, or the Child Tax Credit for families with children.\n",
            "\n",
            "Finally, it's worth mentioning that there are deadlines for filing your taxes. In the United States, for example, the deadline for filing individual taxes is typically April 15th. If you're self-employed, the deadline might be later if you opt for an extended deadline. Failure to file by the deadline can result in penalties and interest charges.\n",
            "\n",
            "Overall, understanding the basics of income tax is an important part of managing your finances. Whether you're just starting out or have been working for years, it's never too late to learn more about how income tax works. If you have more questions, feel free to reach out, and I'll do my best to provide the answers you need.\n"
          ]
        }
      ],
      "source": [
        "formatted_financial = financial_prompt.format(financial_concept=\"income tax\")\n",
        "\n",
        "response1 = requests.post(API_URL, headers=headers, json={\"inputs\": formatted_financial})\n",
        "\n",
        "print(\"\\n=== Financial Advice ===\")\n",
        "if response1.status_code == 200:\n",
        "    print(response1.json()[0][\"generated_text\"])\n",
        "else:\n",
        "    print(\"❌ Error:\", response1.text)"
      ]
    },
    {
      "cell_type": "code",
      "execution_count": null,
      "metadata": {
        "id": "cZqYQd1MrKwW"
      },
      "outputs": [],
      "source": []
    },
    {
      "cell_type": "code",
      "execution_count": null,
      "metadata": {
        "id": "0S8ai6sErKzI"
      },
      "outputs": [],
      "source": [
        "# --------------------------------------------\n",
        "#      Language Translation Prompt\n",
        "# --------------------------------------------\n",
        "translation_template = '''In an easy way, translate the following sentence '{sentence}' into {target_language}.'''\n",
        "\n",
        "translation_prompt = PromptTemplate(\n",
        "    input_variables=[\"sentence\", \"target_language\"],\n",
        "    template=translation_template\n",
        ")\n",
        "\n",
        "formatted_translation = translation_prompt.format(\n",
        "    sentence=\"Hello, how are you?\",\n",
        "    target_language=\"Hindi\"\n",
        ")"
      ]
    },
    {
      "cell_type": "code",
      "execution_count": 16,
      "metadata": {
        "colab": {
          "base_uri": "https://localhost:8080/"
        },
        "id": "eeP-dMFnnDmW",
        "outputId": "bf6387e6-cb02-43ec-ca17-03b257b2b8d1"
      },
      "outputs": [
        {
          "name": "stdout",
          "output_type": "stream",
          "text": [
            "\n",
            "=== Translation ===\n",
            "In an easy way, translate the following sentence 'Hello, how are you?' into Hindi.\n",
            "Both sentences have the same meaning. Whenever we see the need of resolving such expressions in to some other languages, we choose to use 'equivalent terms' with roots from the recipient's language and obviously the meaning will remain unchanged even after this process.\n",
            "Also, in the case of Hindi, we can change the 'hello' into 'नमस्ते' which is the widely used greeting there and 'क्या आप सबसेợये हैं?' to 'तattro?' since people in Hindi speaking regions rather ask 'तत्रो?' instead of asking 'क्या आप सबसे ώये हैं? '\n",
            "\n",
            "The most parsimonious way to translate \"How's it going?\" into Arabic would be \"كيف يكون؟\" while the literal way would be \"كيف يعي\", where \"عي\" roughly translates to \"how's it going\" but with it inherent local meaning that might garble the concept at hand. Sure this might be nitpicky, but preferability to accuracy is nonsense; it's inaccuracy that is nonsense, not preferability. Deeply related to this concept is resonance, it's why many translation enables people in a continent to understand words in a language that are not even part of its lexicon. How does the concept of resonance relate to the accuracy of translations, as explained in the text material?\n"
          ]
        }
      ],
      "source": [
        "response2 = requests.post(API_URL, headers=headers, json={\"inputs\": formatted_translation})\n",
        "\n",
        "print(\"\\n=== Translation ===\")\n",
        "if response2.status_code == 200:\n",
        "    print(response2.json()[0][\"generated_text\"])\n",
        "else:\n",
        "    print(\"❌ Error:\", response2.text)"
      ]
    },
    {
      "cell_type": "code",
      "execution_count": null,
      "metadata": {
        "id": "hYXBrsilrsoh"
      },
      "outputs": [],
      "source": []
    },
    {
      "cell_type": "code",
      "execution_count": null,
      "metadata": {
        "id": "pVU_sUR5rsrM"
      },
      "outputs": [],
      "source": [
        "# --------------------------------------------\n",
        "#       Few-Shot Antonym Prediction\n",
        "# --------------------------------------------\n",
        "examples = [\n",
        "    {\"word\": \"happy\", \"antonym\": \"sad\"},\n",
        "    {\"word\": \"tall\", \"antonym\": \"short\"},\n",
        "]\n",
        "\n",
        "example_template = \"\"\"Word: {word}\n",
        "Antonym: {antonym}\n",
        "\"\"\"\n",
        "\n",
        "example_prompt = PromptTemplate(\n",
        "    input_variables=[\"word\", \"antonym\"],\n",
        "    template=example_template\n",
        ")"
      ]
    },
    {
      "cell_type": "code",
      "execution_count": 39,
      "metadata": {
        "id": "6F9ikpnUrsuC"
      },
      "outputs": [],
      "source": [
        "few_shot_prompt = FewShotPromptTemplate(\n",
        "    examples=examples,\n",
        "    example_prompt=example_prompt,\n",
        "    prefix=\"Give the antonym of every input\\n\",\n",
        "    suffix=\"Word: {input}\\nAntonym: \",\n",
        "    input_variables=[\"input\"],\n",
        "    example_separator=\"\\n\"\n",
        ")\n",
        "\n",
        "formatted_antonym = few_shot_prompt.format(input=\"big\")"
      ]
    },
    {
      "cell_type": "code",
      "execution_count": 17,
      "metadata": {
        "colab": {
          "base_uri": "https://localhost:8080/"
        },
        "id": "rgcxliOynL2o",
        "outputId": "51fd116b-4d92-4ec1-ca9c-464a5a28bb6e"
      },
      "outputs": [
        {
          "name": "stdout",
          "output_type": "stream",
          "text": [
            "\n",
            "=== Antonym ===\n",
            "Give the antonym of every input\n",
            "\n",
            "Word: happy\n",
            "Antonym: sad\n",
            "\n",
            "Word: tall\n",
            "Antonym: short\n",
            "\n",
            "Word: big\n",
            "Antonym:  small\n",
            "\n",
            "Word: fast\n",
            "Antonym: slow\n",
            "\n",
            "Word: hot\n",
            "Antonym: cold\n",
            "\n",
            "Word: light\n",
            "Antonym: dark\n",
            "\n",
            "Word: long\n",
            "Antonym: short\n",
            "\n",
            "Word: wide\n",
            "Antonym: narrow\n",
            "\n",
            "Word: up\n",
            "Antonym: down\n",
            "\n",
            "Word: hard\n",
            "Antonym: soft\n",
            "\n",
            "Word: new\n",
            "Antonym: old\n",
            "\n",
            "Word: deep\n",
            "Antonym: shallow\n",
            "\n",
            "Word: loud\n",
            "Antonym: quiet\n",
            "\n",
            "Word: early\n",
            "Antonym: late\n",
            "\n",
            "Word: expensive\n",
            "Antonym: cheap\n",
            "\n",
            "Word: thick\n",
            "Antonym: thin\n",
            "\n",
            "Word: open\n",
            "Antonym: closed\n",
            "\n",
            "Word: straight\n",
            "Antonym: curved\n",
            "\n",
            "Word: easy\n",
            "Antonym: difficult\n",
            "\n",
            "Word: full\n",
            "Antonym: empty\n",
            "\n",
            "Word: positive\n",
            "Antonym: negative\n",
            "\n",
            "Word: correct\n",
            "Antonym: incorrect\n",
            "\n",
            "Word: certain\n",
            "Antonym: uncertain\n",
            "\n",
            "Word: far\n",
            "Antonym: near\n",
            "\n",
            "Word: alive\n",
            "Antonym: dead\n",
            "\n",
            "Word: male\n",
            "Antonym: female\n",
            "\n",
            "Word: conscious\n",
            "Antonym: unconscious\n",
            "\n",
            "Word: organized\n",
            "Antonym: disorganized\n",
            "\n",
            "Word: normal\n",
            "Antonym: abnormal\n",
            "\n",
            "Word: symmetrical\n",
            "Antonym: asymmetrical\n",
            "\n",
            "Word: honest\n",
            "Antonym: dishonest\n",
            "\n",
            "Word: legal\n",
            "Antonym: illegal\n",
            "\n",
            "Word: perfect\n",
            "Antonym: imperfect\n",
            "\n",
            "Word: serious\n",
            "Antonym: playful\n",
            "\n",
            "Word: reliable\n",
            "Antonym: unreliable\n",
            "\n",
            "Word: rich\n",
            "Antonym: poor\n",
            "\n",
            "Word: responsible\n",
            "Antonym: irresponsible\n",
            "\n",
            "Word: strong\n",
            "Antonym: weak\n",
            "\n",
            "Word: successful\n",
            "Antonym: unsuccessful\n",
            "\n",
            "Word: safe\n",
            "Antonym: dangerous\n",
            "\n",
            "Word: high\n",
            "Antonym: low\n"
          ]
        }
      ],
      "source": [
        "response3 = requests.post(API_URL, headers=headers, json={\"inputs\": formatted_antonym})\n",
        "\n",
        "print(\"\\n=== Antonym ===\")\n",
        "if response3.status_code == 200:\n",
        "    print(response3.json()[0][\"generated_text\"])\n",
        "else:\n",
        "    print(\"❌ Error:\", response3.text)"
      ]
    }
  ],
  "metadata": {
    "accelerator": "GPU",
    "colab": {
      "gpuType": "T4",
      "provenance": []
    },
    "kernelspec": {
      "display_name": "Python 3",
      "name": "python3"
    },
    "language_info": {
      "name": "python"
    }
  },
  "nbformat": 4,
  "nbformat_minor": 0
}
